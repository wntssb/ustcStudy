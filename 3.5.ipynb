{
 "cells": [
  {
   "cell_type": "code",
   "execution_count": 4,
   "metadata": {},
   "outputs": [],
   "source": [
    "import keras\n",
    "keras.__version__\n",
    "from keras.datasets import reuters\n",
    "\n",
    "(train_data, train_labels), (test_data, test_labels) = reuters.load_data( num_words=10000)"
   ]
  },
  {
   "cell_type": "code",
   "execution_count": 6,
   "metadata": {},
   "outputs": [],
   "source": [
    "from keras import models\n",
    "from keras import layers\n",
    "\n",
    "model = models.Sequential()\n",
    "model.add(layers.Dense(64, activation='relu', input_shape=(10000,)))\n",
    "model.add(layers.Dense(64, activation='relu'))\n",
    "model.add(layers.Dense(46, activation='softmax'))\n",
    "model.compile(optimizer='rmsprop',\n",
    "              loss='categorical_crossentropy',\n",
    "              metrics=['accuracy'])"
   ]
  },
  {
   "cell_type": "code",
   "execution_count": 21,
   "metadata": {},
   "outputs": [],
   "source": [
    "import numpy as np\n",
    "from keras.utils.np_utils import to_categorical\n",
    "\n",
    "def vectorize_sequences(sequences, dimension=10000):\n",
    "    results = np.zeros((len(sequences), dimension))\n",
    "    for i, sequence in enumerate(sequences):\n",
    "        results[i, sequence] = 1.\n",
    "    return results\n",
    "def to_one_hot(labels, dimension=46):\n",
    "    results = np.zeros((len(labels), dimension))\n",
    "    for i, label in enumerate(labels):\n",
    "        results[i, label] = 1.\n",
    "    return results\n",
    "\n",
    "# Our vectorized training labels\n",
    "one_hot_train_labels = to_one_hot(train_labels)\n",
    "one_hot_test_labels = to_categorical(test_labels)\n",
    "\n",
    "# Our vectorized training data\n",
    "x_train = vectorize_sequences(train_data)\n",
    "# Our vectorized test data\n",
    "x_test = vectorize_sequences(test_data)\n",
    "\n",
    "x_val = x_train[:1000]\n",
    "partial_x_train = x_train[1000:]\n",
    "\n",
    "y_val = one_hot_train_labels[:1000]\n",
    "partial_y_train = one_hot_train_labels[1000:]"
   ]
  },
  {
   "cell_type": "code",
   "execution_count": 13,
   "metadata": {},
   "outputs": [
    {
     "name": "stdout",
     "output_type": "stream",
     "text": [
      "Train on 7982 samples, validate on 1000 samples\n",
      "Epoch 1/20\n",
      "7982/7982 [==============================] - 1s 117us/step - loss: 2.7274 - accuracy: 0.4985 - val_loss: 1.8478 - val_accuracy: 0.6370\n",
      "Epoch 2/20\n",
      "7982/7982 [==============================] - 1s 91us/step - loss: 1.4904 - accuracy: 0.6916 - val_loss: 1.3091 - val_accuracy: 0.7140\n",
      "Epoch 3/20\n",
      "7982/7982 [==============================] - ETA: 0s - loss: 1.0664 - accuracy: 0.77 - 1s 90us/step - loss: 1.0643 - accuracy: 0.7707 - val_loss: 1.1204 - val_accuracy: 0.7550\n",
      "Epoch 4/20\n",
      "7982/7982 [==============================] - 1s 90us/step - loss: 0.8291 - accuracy: 0.8285 - val_loss: 1.0220 - val_accuracy: 0.7950\n",
      "Epoch 5/20\n",
      "7982/7982 [==============================] - 1s 90us/step - loss: 0.6622 - accuracy: 0.8653 - val_loss: 0.9531 - val_accuracy: 0.8060\n",
      "Epoch 6/20\n",
      "7982/7982 [==============================] - 1s 91us/step - loss: 0.5280 - accuracy: 0.8911 - val_loss: 0.9321 - val_accuracy: 0.8080\n",
      "Epoch 7/20\n",
      "7982/7982 [==============================] - 1s 93us/step - loss: 0.4248 - accuracy: 0.9144 - val_loss: 0.8883 - val_accuracy: 0.8140\n",
      "Epoch 8/20\n",
      "7982/7982 [==============================] - 1s 94us/step - loss: 0.3445 - accuracy: 0.9317 - val_loss: 0.9021 - val_accuracy: 0.8160\n",
      "Epoch 9/20\n",
      "7982/7982 [==============================] - 1s 98us/step - loss: 0.2889 - accuracy: 0.9360 - val_loss: 0.8814 - val_accuracy: 0.8220\n",
      "Epoch 10/20\n",
      "7982/7982 [==============================] - 1s 95us/step - loss: 0.2417 - accuracy: 0.9441 - val_loss: 0.8865 - val_accuracy: 0.8280\n",
      "Epoch 11/20\n",
      "7982/7982 [==============================] - ETA: 0s - loss: 0.2101 - accuracy: 0.94 - 1s 93us/step - loss: 0.2096 - accuracy: 0.9499 - val_loss: 0.9056 - val_accuracy: 0.8240\n",
      "Epoch 12/20\n",
      "7982/7982 [==============================] - 1s 93us/step - loss: 0.1825 - accuracy: 0.9526 - val_loss: 0.9554 - val_accuracy: 0.8100\n",
      "Epoch 13/20\n",
      "7982/7982 [==============================] - 1s 93us/step - loss: 0.1690 - accuracy: 0.9551 - val_loss: 0.9943 - val_accuracy: 0.8050\n",
      "Epoch 14/20\n",
      "7982/7982 [==============================] - 1s 93us/step - loss: 0.1522 - accuracy: 0.9539 - val_loss: 1.0130 - val_accuracy: 0.8060\n",
      "Epoch 15/20\n",
      "7982/7982 [==============================] - 1s 93us/step - loss: 0.1392 - accuracy: 0.9557 - val_loss: 0.9911 - val_accuracy: 0.8120\n",
      "Epoch 16/20\n",
      "7982/7982 [==============================] - 1s 93us/step - loss: 0.1363 - accuracy: 0.9560 - val_loss: 0.9887 - val_accuracy: 0.8100\n",
      "Epoch 17/20\n",
      "7982/7982 [==============================] - 1s 93us/step - loss: 0.1267 - accuracy: 0.9565 - val_loss: 0.9979 - val_accuracy: 0.8130\n",
      "Epoch 18/20\n",
      "7982/7982 [==============================] - 1s 93us/step - loss: 0.1232 - accuracy: 0.9563 - val_loss: 1.0444 - val_accuracy: 0.8090\n",
      "Epoch 19/20\n",
      "7982/7982 [==============================] - 1s 92us/step - loss: 0.1169 - accuracy: 0.9583 - val_loss: 1.0546 - val_accuracy: 0.8040\n",
      "Epoch 20/20\n",
      "7982/7982 [==============================] - 1s 93us/step - loss: 0.1145 - accuracy: 0.9579 - val_loss: 1.0552 - val_accuracy: 0.8100\n"
     ]
    }
   ],
   "source": [
    "history = model.fit(partial_x_train,\n",
    "                    partial_y_train,\n",
    "                    epochs=20,\n",
    "                    batch_size=512,\n",
    "                    validation_data=(x_val, y_val))"
   ]
  },
  {
   "cell_type": "code",
   "execution_count": 38,
   "metadata": {
    "scrolled": true
   },
   "outputs": [
    {
     "name": "stdout",
     "output_type": "stream",
     "text": [
      "Train on 7982 samples, validate on 1000 samples\n",
      "Epoch 1/20\n",
      "7982/7982 [==============================] - 1s 101us/step - loss: 3.6236 - accuracy: 0.1882 - val_loss: 3.3215 - val_accuracy: 0.3910\n",
      "Epoch 2/20\n",
      "7982/7982 [==============================] - 1s 80us/step - loss: 3.0452 - accuracy: 0.5192 - val_loss: 2.7597 - val_accuracy: 0.5750\n",
      "Epoch 3/20\n",
      "7982/7982 [==============================] - 1s 79us/step - loss: 2.4487 - accuracy: 0.6079 - val_loss: 2.2023 - val_accuracy: 0.6160\n",
      "Epoch 4/20\n",
      "7982/7982 [==============================] - 1s 80us/step - loss: 1.9179 - accuracy: 0.6508 - val_loss: 1.7862 - val_accuracy: 0.6390\n",
      "Epoch 5/20\n",
      "7982/7982 [==============================] - 1s 80us/step - loss: 1.5580 - accuracy: 0.6972 - val_loss: 1.5391 - val_accuracy: 0.6640\n",
      "Epoch 6/20\n",
      "7982/7982 [==============================] - 1s 79us/step - loss: 1.3333 - accuracy: 0.7192 - val_loss: 1.3890 - val_accuracy: 0.6850\n",
      "Epoch 7/20\n",
      "7982/7982 [==============================] - 1s 79us/step - loss: 1.1818 - accuracy: 0.7393 - val_loss: 1.2939 - val_accuracy: 0.7000\n",
      "Epoch 8/20\n",
      "7982/7982 [==============================] - 1s 79us/step - loss: 1.0689 - accuracy: 0.7544 - val_loss: 1.2318 - val_accuracy: 0.7170\n",
      "Epoch 9/20\n",
      "7982/7982 [==============================] - 1s 79us/step - loss: 0.9784 - accuracy: 0.7756 - val_loss: 1.1855 - val_accuracy: 0.7290\n",
      "Epoch 10/20\n",
      "7982/7982 [==============================] - 1s 80us/step - loss: 0.9000 - accuracy: 0.7923 - val_loss: 1.1439 - val_accuracy: 0.7430\n",
      "Epoch 11/20\n",
      "7982/7982 [==============================] - 1s 79us/step - loss: 0.8303 - accuracy: 0.8101 - val_loss: 1.1180 - val_accuracy: 0.7560\n",
      "Epoch 12/20\n",
      "7982/7982 [==============================] - 1s 79us/step - loss: 0.7660 - accuracy: 0.8246 - val_loss: 1.0906 - val_accuracy: 0.7650\n",
      "Epoch 13/20\n",
      "7982/7982 [==============================] - 1s 79us/step - loss: 0.7067 - accuracy: 0.8388 - val_loss: 1.0653 - val_accuracy: 0.7730\n",
      "Epoch 14/20\n",
      "7982/7982 [==============================] - 1s 79us/step - loss: 0.6501 - accuracy: 0.8523 - val_loss: 1.0508 - val_accuracy: 0.7780\n",
      "Epoch 15/20\n",
      "7982/7982 [==============================] - 1s 81us/step - loss: 0.5984 - accuracy: 0.8634 - val_loss: 1.0348 - val_accuracy: 0.7750\n",
      "Epoch 16/20\n",
      "7982/7982 [==============================] - 1s 82us/step - loss: 0.5504 - accuracy: 0.8763 - val_loss: 1.0285 - val_accuracy: 0.7890\n",
      "Epoch 17/20\n",
      "7982/7982 [==============================] - 1s 82us/step - loss: 0.5068 - accuracy: 0.8881 - val_loss: 1.0193 - val_accuracy: 0.7840\n",
      "Epoch 18/20\n",
      "7982/7982 [==============================] - 1s 80us/step - loss: 0.4668 - accuracy: 0.8961 - val_loss: 1.0113 - val_accuracy: 0.7830\n",
      "Epoch 19/20\n",
      "7982/7982 [==============================] - 1s 80us/step - loss: 0.4304 - accuracy: 0.9034 - val_loss: 1.0002 - val_accuracy: 0.7870\n",
      "Epoch 20/20\n",
      "7982/7982 [==============================] - 1s 80us/step - loss: 0.3950 - accuracy: 0.9112 - val_loss: 0.9960 - val_accuracy: 0.7940\n",
      "2246/2246 [==============================] - 0s 89us/step\n"
     ]
    }
   ],
   "source": [
    "model = models.Sequential()\n",
    "model.add(layers.Dense(16, activation='relu', input_shape=(10000,)))\n",
    "model.add(layers.Dense(16, activation='relu'))\n",
    "model.add(layers.Dense(46, activation='softmax'))\n",
    "\n",
    "model.compile(optimizer='rmsprop',\n",
    "              loss='categorical_crossentropy',\n",
    "              metrics=['accuracy'])\n",
    "history = model.fit(partial_x_train,\n",
    "          partial_y_train,\n",
    "          epochs=20,\n",
    "          batch_size=512,\n",
    "          validation_data=(x_val, y_val))\n",
    "results = model.evaluate(x_test, one_hot_test_labels)"
   ]
  },
  {
   "cell_type": "code",
   "execution_count": 40,
   "metadata": {},
   "outputs": [
    {
     "name": "stdout",
     "output_type": "stream",
     "text": [
      "Train on 7982 samples, validate on 1000 samples\n",
      "Epoch 1/7\n",
      "7982/7982 [==============================] - 1s 113us/step - loss: 2.2292 - accuracy: 0.5405 - val_loss: 1.3858 - val_accuracy: 0.6890\n",
      "Epoch 2/7\n",
      "7982/7982 [==============================] - 1s 104us/step - loss: 1.1207 - accuracy: 0.7613 - val_loss: 1.0958 - val_accuracy: 0.7690\n",
      "Epoch 3/7\n",
      "7982/7982 [==============================] - 1s 103us/step - loss: 0.7887 - accuracy: 0.8340 - val_loss: 1.0368 - val_accuracy: 0.7680\n",
      "Epoch 4/7\n",
      "7982/7982 [==============================] - 1s 102us/step - loss: 0.5772 - accuracy: 0.8810 - val_loss: 0.9882 - val_accuracy: 0.7750\n",
      "Epoch 5/7\n",
      "7982/7982 [==============================] - 1s 103us/step - loss: 0.4137 - accuracy: 0.9122 - val_loss: 0.8675 - val_accuracy: 0.8170\n",
      "Epoch 6/7\n",
      "7982/7982 [==============================] - 1s 102us/step - loss: 0.3165 - accuracy: 0.9297 - val_loss: 0.9022 - val_accuracy: 0.8070\n",
      "Epoch 7/7\n",
      "7982/7982 [==============================] - 1s 102us/step - loss: 0.2574 - accuracy: 0.9409 - val_loss: 0.9239 - val_accuracy: 0.8050\n",
      "2246/2246 [==============================] - 0s 108us/step\n"
     ]
    }
   ],
   "source": [
    "model = models.Sequential()\n",
    "model.add(layers.Dense(128, activation='relu', input_shape=(10000,)))\n",
    "model.add(layers.Dense(128, activation='relu'))\n",
    "model.add(layers.Dense(46, activation='softmax'))\n",
    "\n",
    "model.compile(optimizer='rmsprop',\n",
    "              loss='categorical_crossentropy',\n",
    "              metrics=['accuracy'])\n",
    "history = model.fit(partial_x_train,\n",
    "          partial_y_train,\n",
    "          epochs=7,\n",
    "          batch_size=512,\n",
    "          validation_data=(x_val, y_val))\n",
    "results = model.evaluate(x_test, one_hot_test_labels)"
   ]
  },
  {
   "cell_type": "code",
   "execution_count": 50,
   "metadata": {},
   "outputs": [
    {
     "name": "stdout",
     "output_type": "stream",
     "text": [
      "Train on 7982 samples, validate on 1000 samples\n",
      "Epoch 1/22\n",
      "7982/7982 [==============================] - 1s 89us/step - loss: 3.2455 - accuracy: 0.3887 - val_loss: 2.8046 - val_accuracy: 0.4690\n",
      "Epoch 2/22\n",
      "7982/7982 [==============================] - 1s 80us/step - loss: 2.4743 - accuracy: 0.5378 - val_loss: 2.2500 - val_accuracy: 0.5890\n",
      "Epoch 3/22\n",
      "7982/7982 [==============================] - 1s 78us/step - loss: 1.9795 - accuracy: 0.6543 - val_loss: 1.8712 - val_accuracy: 0.6560\n",
      "Epoch 4/22\n",
      "7982/7982 [==============================] - 1s 78us/step - loss: 1.6421 - accuracy: 0.7066 - val_loss: 1.6207 - val_accuracy: 0.6820\n",
      "Epoch 5/22\n",
      "7982/7982 [==============================] - 1s 79us/step - loss: 1.4080 - accuracy: 0.7340 - val_loss: 1.4484 - val_accuracy: 0.7140\n",
      "Epoch 6/22\n",
      "7982/7982 [==============================] - 1s 80us/step - loss: 1.2352 - accuracy: 0.7551 - val_loss: 1.3273 - val_accuracy: 0.7230\n",
      "Epoch 7/22\n",
      "7982/7982 [==============================] - 1s 79us/step - loss: 1.1023 - accuracy: 0.7726 - val_loss: 1.2356 - val_accuracy: 0.7340\n",
      "Epoch 8/22\n",
      "7982/7982 [==============================] - 1s 79us/step - loss: 0.9956 - accuracy: 0.7927 - val_loss: 1.1715 - val_accuracy: 0.7470\n",
      "Epoch 9/22\n",
      "7982/7982 [==============================] - 1s 79us/step - loss: 0.9060 - accuracy: 0.8093 - val_loss: 1.1217 - val_accuracy: 0.7640\n",
      "Epoch 10/22\n",
      "7982/7982 [==============================] - 1s 80us/step - loss: 0.8297 - accuracy: 0.8264 - val_loss: 1.0827 - val_accuracy: 0.7770\n",
      "Epoch 11/22\n",
      "7982/7982 [==============================] - 1s 81us/step - loss: 0.7630 - accuracy: 0.8389 - val_loss: 1.0501 - val_accuracy: 0.7830\n",
      "Epoch 12/22\n",
      "7982/7982 [==============================] - 1s 80us/step - loss: 0.7023 - accuracy: 0.8515 - val_loss: 1.0234 - val_accuracy: 0.7850\n",
      "Epoch 13/22\n",
      "7982/7982 [==============================] - 1s 81us/step - loss: 0.6480 - accuracy: 0.8654 - val_loss: 1.0033 - val_accuracy: 0.7900\n",
      "Epoch 14/22\n",
      "7982/7982 [==============================] - 1s 81us/step - loss: 0.5996 - accuracy: 0.8753 - val_loss: 0.9810 - val_accuracy: 0.7960\n",
      "Epoch 15/22\n",
      "7982/7982 [==============================] - 1s 81us/step - loss: 0.5548 - accuracy: 0.8859 - val_loss: 0.9686 - val_accuracy: 0.8000\n",
      "Epoch 16/22\n",
      "7982/7982 [==============================] - 1s 84us/step - loss: 0.5143 - accuracy: 0.8928 - val_loss: 0.9514 - val_accuracy: 0.8010\n",
      "Epoch 17/22\n",
      "7982/7982 [==============================] - 1s 81us/step - loss: 0.4766 - accuracy: 0.9022 - val_loss: 0.9433 - val_accuracy: 0.8040\n",
      "Epoch 18/22\n",
      "7982/7982 [==============================] - 1s 82us/step - loss: 0.4420 - accuracy: 0.9092 - val_loss: 0.9295 - val_accuracy: 0.8050\n",
      "Epoch 19/22\n",
      "7982/7982 [==============================] - 1s 80us/step - loss: 0.4106 - accuracy: 0.9158 - val_loss: 0.9220 - val_accuracy: 0.8090\n",
      "Epoch 20/22\n",
      "7982/7982 [==============================] - 1s 80us/step - loss: 0.3814 - accuracy: 0.9226 - val_loss: 0.9161 - val_accuracy: 0.8110\n",
      "Epoch 21/22\n",
      "7982/7982 [==============================] - 1s 80us/step - loss: 0.3555 - accuracy: 0.9263 - val_loss: 0.9175 - val_accuracy: 0.8030\n",
      "Epoch 22/22\n",
      "7982/7982 [==============================] - 1s 80us/step - loss: 0.3310 - accuracy: 0.9295 - val_loss: 0.9126 - val_accuracy: 0.8090\n",
      "2246/2246 [==============================] - 0s 84us/step\n"
     ]
    }
   ],
   "source": [
    "model = models.Sequential()\n",
    "model.add(layers.Dense(16, activation='relu', input_shape=(10000,)))\n",
    "# model.add(layers.Dense(16, activation='relu'))\n",
    "model.add(layers.Dense(46, activation='softmax'))\n",
    "\n",
    "model.compile(optimizer='rmsprop',\n",
    "              loss='categorical_crossentropy',\n",
    "              metrics=['accuracy'])\n",
    "history = model.fit(partial_x_train,\n",
    "          partial_y_train,\n",
    "          epochs=22,\n",
    "          batch_size=512,\n",
    "          validation_data=(x_val, y_val))\n",
    "results = model.evaluate(x_test, one_hot_test_labels)"
   ]
  },
  {
   "cell_type": "code",
   "execution_count": 47,
   "metadata": {},
   "outputs": [
    {
     "data": {
      "image/png": "[encoded data removed]",
      "text/plain": [
       "<Figure size 432x288 with 1 Axes>"
      ]
     },
     "metadata": {
      "needs_background": "light"
     },
     "output_type": "display_data"
    }
   ],
   "source": [
    "import matplotlib.pyplot as plt\n",
    "\n",
    "loss = history.history['loss']\n",
    "val_loss = history.history['val_loss']\n",
    "\n",
    "epochs = range(1, len(loss) + 1)\n",
    "\n",
    "plt.plot(epochs, loss, 'bo', label='Training loss')\n",
    "plt.plot(epochs, val_loss, 'b', label='Validation loss')\n",
    "plt.title('Training and validation loss')\n",
    "plt.xlabel('Epochs')\n",
    "plt.ylabel('Loss')\n",
    "plt.legend()\n",
    "\n",
    "plt.show()"
   ]
  },
  {
   "cell_type": "code",
   "execution_count": 48,
   "metadata": {},
   "outputs": [
    {
     "data": {
      "image/png": "[encoded data removed]",
      "text/plain": [
       "<Figure size 432x288 with 1 Axes>"
      ]
     },
     "metadata": {
      "needs_background": "light"
     },
     "output_type": "display_data"
    }
   ],
   "source": [
    "plt.clf()   # clear figure\n",
    "\n",
    "acc = history.history['accuracy']\n",
    "val_acc = history.history['val_accuracy']\n",
    "\n",
    "plt.plot(epochs, acc, 'bo', label='Training acc')\n",
    "plt.plot(epochs, val_acc, 'b', label='Validation acc')\n",
    "plt.title('Training and validation accuracy')\n",
    "plt.xlabel('Epochs')\n",
    "plt.ylabel('Loss')\n",
    "plt.legend()\n",
    "\n",
    "plt.show()"
   ]
  },
  {
   "cell_type": "code",
   "execution_count": 51,
   "metadata": {},
   "outputs": [
    {
     "data": {
      "text/plain": [
       "[0.9711126423476534, 0.7813891172409058]"
      ]
     },
     "execution_count": 51,
     "metadata": {},
     "output_type": "execute_result"
    }
   ],
   "source": [
    "results"
   ]
  },
  {
   "cell_type": "code",
   "execution_count": null,
   "metadata": {},
   "outputs": [],
   "source": []
  }
 ],
 "metadata": {
  "kernelspec": {
   "display_name": "Python 3",
   "language": "python",
   "name": "python3"
  },
  "language_info": {
   "codemirror_mode": {
    "name": "ipython",
    "version": 3
   },
   "file_extension": ".py",
   "mimetype": "text/x-python",
   "name": "python",
   "nbconvert_exporter": "python",
   "pygments_lexer": "ipython3",
   "version": "3.7.4"
  }
 },
 "nbformat": 4,
 "nbformat_minor": 2
}
