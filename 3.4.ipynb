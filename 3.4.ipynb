{
 "cells": [
  {
   "cell_type": "code",
   "execution_count": 3,
   "metadata": {},
   "outputs": [
    {
     "data": {
      "text/plain": [
       "'2.3.1'"
      ]
     },
     "execution_count": 3,
     "metadata": {},
     "output_type": "execute_result"
    }
   ],
   "source": [
    "import keras \n",
    "keras.__version__"
   ]
  },
  {
   "cell_type": "code",
   "execution_count": 4,
   "metadata": {},
   "outputs": [
    {
     "name": "stdout",
     "output_type": "stream",
     "text": [
      "A local file was found, but it seems to be incomplete or outdated because the auto file hash does not match the original value of 599dadb1135973df5b59232a0e9a887c so we will re-download the data.\n",
      "Downloading data from https://s3.amazonaws.com/text-datasets/imdb.npz\n",
      "17465344/17464789 [==============================] - 248s 14us/step\n"
     ]
    }
   ],
   "source": [
    "from keras.datasets import imdb\n",
    "\n",
    "(train_data, train_labels), (test_data, test_labels) = imdb.load_data(num_words=10000)"
   ]
  },
  {
   "cell_type": "code",
   "execution_count": 5,
   "metadata": {},
   "outputs": [],
   "source": [
    "import numpy as np\n",
    "\n",
    "def vectorize_sequences(sequences, dimension=10000):\n",
    "    # Create an all-zero matrix of shape (len(sequences), dimension)\n",
    "    results = np.zeros((len(sequences), dimension))\n",
    "    for i, sequence in enumerate(sequences):\n",
    "        results[i, sequence] = 1.  # set specific indices of results[i] to 1s\n",
    "    return results\n",
    "\n",
    "# Our vectorized training data\n",
    "x_train = vectorize_sequences(train_data)\n",
    "# Our vectorized test data\n",
    "x_test = vectorize_sequences(test_data)"
   ]
  },
  {
   "cell_type": "code",
   "execution_count": 9,
   "metadata": {},
   "outputs": [],
   "source": [
    "# Our vectorized labels\n",
    "y_train = np.asarray(train_labels).astype('float32')\n",
    "y_test = np.asarray(test_labels).astype('float32')"
   ]
  },
  {
   "cell_type": "code",
   "execution_count": 26,
   "metadata": {},
   "outputs": [],
   "source": [
    "from keras import models\n",
    "from keras import layers\n",
    "\n",
    "model = models.Sequential()\n",
    "model.add(layers.Dense(16, activation='relu', input_shape=(10000,)))\n",
    "model.add(layers.Dense(16, activation='relu'))\n",
    "model.add(layers.Dense(1, activation='sigmoid'))"
   ]
  },
  {
   "cell_type": "code",
   "execution_count": 27,
   "metadata": {},
   "outputs": [],
   "source": [
    "model.compile(optimizer='rmsprop',\n",
    "              loss='binary_crossentropy',\n",
    "              metrics=['accuracy'])"
   ]
  },
  {
   "cell_type": "code",
   "execution_count": 28,
   "metadata": {},
   "outputs": [],
   "source": [
    "\n",
    "x_val = x_train[:10000]\n",
    "partial_x_train = x_train[10000:]\n",
    "\n",
    "y_val = y_train[:10000]\n",
    "partial_y_train = y_train[10000:]"
   ]
  },
  {
   "cell_type": "code",
   "execution_count": 29,
   "metadata": {
    "scrolled": true
   },
   "outputs": [
    {
     "name": "stdout",
     "output_type": "stream",
     "text": [
      "Train on 15000 samples, validate on 10000 samples\n",
      "Epoch 1/20\n",
      "15000/15000 [==============================] - 3s 170us/step - loss: 0.5054 - accuracy: 0.7941 - val_loss: 0.3755 - val_accuracy: 0.8745\n",
      "Epoch 2/20\n",
      "15000/15000 [==============================] - 2s 160us/step - loss: 0.2981 - accuracy: 0.9055 - val_loss: 0.3211 - val_accuracy: 0.8755\n",
      "Epoch 3/20\n",
      "15000/15000 [==============================] - 2s 158us/step - loss: 0.2175 - accuracy: 0.9285 - val_loss: 0.2840 - val_accuracy: 0.8866\n",
      "Epoch 4/20\n",
      "15000/15000 [==============================] - 2s 157us/step - loss: 0.1687 - accuracy: 0.9457 - val_loss: 0.2797 - val_accuracy: 0.8869\n",
      "Epoch 5/20\n",
      "15000/15000 [==============================] - 2s 157us/step - loss: 0.1414 - accuracy: 0.9537 - val_loss: 0.2921 - val_accuracy: 0.8817\n",
      "Epoch 6/20\n",
      "15000/15000 [==============================] - 2s 161us/step - loss: 0.1148 - accuracy: 0.9653 - val_loss: 0.2967 - val_accuracy: 0.8832\n",
      "Epoch 7/20\n",
      "15000/15000 [==============================] - 2s 164us/step - loss: 0.0977 - accuracy: 0.9697 - val_loss: 0.3240 - val_accuracy: 0.8787\n",
      "Epoch 8/20\n",
      "15000/15000 [==============================] - 2s 161us/step - loss: 0.0793 - accuracy: 0.9783 - val_loss: 0.3520 - val_accuracy: 0.8795\n",
      "Epoch 9/20\n",
      "15000/15000 [==============================] - 2s 159us/step - loss: 0.0687 - accuracy: 0.9809 - val_loss: 0.3600 - val_accuracy: 0.8762\n",
      "Epoch 10/20\n",
      "15000/15000 [==============================] - 2s 162us/step - loss: 0.0571 - accuracy: 0.9846 - val_loss: 0.3817 - val_accuracy: 0.8749\n",
      "Epoch 11/20\n",
      "15000/15000 [==============================] - 2s 162us/step - loss: 0.0447 - accuracy: 0.9903 - val_loss: 0.4259 - val_accuracy: 0.8761\n",
      "Epoch 12/20\n",
      "15000/15000 [==============================] - 2s 162us/step - loss: 0.0358 - accuracy: 0.9921 - val_loss: 0.4769 - val_accuracy: 0.8707\n",
      "Epoch 13/20\n",
      "15000/15000 [==============================] - 2s 162us/step - loss: 0.0313 - accuracy: 0.9933 - val_loss: 0.5249 - val_accuracy: 0.8687\n",
      "Epoch 14/20\n",
      "15000/15000 [==============================] - 2s 161us/step - loss: 0.0227 - accuracy: 0.9955 - val_loss: 0.5501 - val_accuracy: 0.8681\n",
      "Epoch 15/20\n",
      "15000/15000 [==============================] - 2s 161us/step - loss: 0.0204 - accuracy: 0.9960 - val_loss: 0.5415 - val_accuracy: 0.8694\n",
      "Epoch 16/20\n",
      "15000/15000 [==============================] - 2s 161us/step - loss: 0.0157 - accuracy: 0.9969 - val_loss: 0.5776 - val_accuracy: 0.8665\n",
      "Epoch 17/20\n",
      "15000/15000 [==============================] - 2s 162us/step - loss: 0.0093 - accuracy: 0.9994 - val_loss: 0.6210 - val_accuracy: 0.8678\n",
      "Epoch 18/20\n",
      "15000/15000 [==============================] - 2s 161us/step - loss: 0.0114 - accuracy: 0.9979 - val_loss: 0.6509 - val_accuracy: 0.8661\n",
      "Epoch 19/20\n",
      "15000/15000 [==============================] - 2s 161us/step - loss: 0.0090 - accuracy: 0.9989 - val_loss: 0.6923 - val_accuracy: 0.8671\n",
      "Epoch 20/20\n",
      "15000/15000 [==============================] - 2s 162us/step - loss: 0.0040 - accuracy: 0.9999 - val_loss: 0.7223 - val_accuracy: 0.8660\n"
     ]
    }
   ],
   "source": [
    "history = model.fit(partial_x_train,\n",
    "                    partial_y_train,\n",
    "                    epochs=20,\n",
    "                    batch_size=512,\n",
    "                    validation_data=(x_val, y_val))"
   ]
  },
  {
   "cell_type": "code",
   "execution_count": 38,
   "metadata": {
    "scrolled": true
   },
   "outputs": [
    {
     "name": "stdout",
     "output_type": "stream",
     "text": [
      "Train on 15000 samples, validate on 10000 samples\n",
      "Epoch 1/20\n",
      "15000/15000 [==============================] - 2s 165us/step - loss: 0.6034 - accuracy: 0.7315 - val_loss: 0.5256 - val_accuracy: 0.8524\n",
      "Epoch 2/20\n",
      "15000/15000 [==============================] - 2s 156us/step - loss: 0.4460 - accuracy: 0.8791 - val_loss: 0.4112 - val_accuracy: 0.8715\n",
      "Epoch 3/20\n",
      "15000/15000 [==============================] - 2s 163us/step - loss: 0.3410 - accuracy: 0.9087 - val_loss: 0.3460 - val_accuracy: 0.8803\n",
      "Epoch 4/20\n",
      "15000/15000 [==============================] - 2s 161us/step - loss: 0.2710 - accuracy: 0.9235 - val_loss: 0.3100 - val_accuracy: 0.8863\n",
      "Epoch 5/20\n",
      "15000/15000 [==============================] - 2s 158us/step - loss: 0.2236 - accuracy: 0.9354 - val_loss: 0.2842 - val_accuracy: 0.8909\n",
      "Epoch 6/20\n",
      "15000/15000 [==============================] - 2s 159us/step - loss: 0.1891 - accuracy: 0.9443 - val_loss: 0.2818 - val_accuracy: 0.8875\n",
      "Epoch 7/20\n",
      "15000/15000 [==============================] - 2s 159us/step - loss: 0.1624 - accuracy: 0.9514 - val_loss: 0.2753 - val_accuracy: 0.8890\n",
      "Epoch 8/20\n",
      "15000/15000 [==============================] - 2s 155us/step - loss: 0.1401 - accuracy: 0.9585 - val_loss: 0.2820 - val_accuracy: 0.8863\n",
      "Epoch 9/20\n",
      "15000/15000 [==============================] - 2s 155us/step - loss: 0.1223 - accuracy: 0.9655 - val_loss: 0.2831 - val_accuracy: 0.8857\n",
      "Epoch 10/20\n",
      "15000/15000 [==============================] - 2s 155us/step - loss: 0.1074 - accuracy: 0.9697 - val_loss: 0.3017 - val_accuracy: 0.8853\n",
      "Epoch 11/20\n",
      "15000/15000 [==============================] - 2s 155us/step - loss: 0.0937 - accuracy: 0.9741 - val_loss: 0.3044 - val_accuracy: 0.8838\n",
      "Epoch 12/20\n",
      "15000/15000 [==============================] - 2s 155us/step - loss: 0.0813 - accuracy: 0.9791 - val_loss: 0.3200 - val_accuracy: 0.8813\n",
      "Epoch 13/20\n",
      "15000/15000 [==============================] - 2s 155us/step - loss: 0.0711 - accuracy: 0.9823 - val_loss: 0.3403 - val_accuracy: 0.8787\n",
      "Epoch 14/20\n",
      "15000/15000 [==============================] - 2s 155us/step - loss: 0.0612 - accuracy: 0.9856 - val_loss: 0.3712 - val_accuracy: 0.8741\n",
      "Epoch 15/20\n",
      "15000/15000 [==============================] - 2s 154us/step - loss: 0.0529 - accuracy: 0.9882 - val_loss: 0.3749 - val_accuracy: 0.8744\n",
      "Epoch 16/20\n",
      "15000/15000 [==============================] - 2s 154us/step - loss: 0.0452 - accuracy: 0.9901 - val_loss: 0.4258 - val_accuracy: 0.8664\n",
      "Epoch 17/20\n",
      "15000/15000 [==============================] - 2s 155us/step - loss: 0.0390 - accuracy: 0.9921 - val_loss: 0.4171 - val_accuracy: 0.8737\n",
      "Epoch 18/20\n",
      "15000/15000 [==============================] - 2s 155us/step - loss: 0.0331 - accuracy: 0.9940 - val_loss: 0.4336 - val_accuracy: 0.8736\n",
      "Epoch 19/20\n",
      "15000/15000 [==============================] - 2s 155us/step - loss: 0.0280 - accuracy: 0.9951 - val_loss: 0.4777 - val_accuracy: 0.8664\n",
      "Epoch 20/20\n",
      "15000/15000 [==============================] - 2s 154us/step - loss: 0.0234 - accuracy: 0.9961 - val_loss: 0.4845 - val_accuracy: 0.8708\n"
     ]
    }
   ],
   "source": [
    "model = models.Sequential()\n",
    "model.add(layers.Dense(8, activation='relu', input_shape=(10000,)))\n",
    "model.add(layers.Dense(8, activation='relu'))\n",
    "model.add(layers.Dense(1, activation='sigmoid'))\n",
    "\n",
    "model.compile(optimizer='rmsprop',\n",
    "              loss='binary_crossentropy',\n",
    "              metrics=['accuracy'])\n",
    "\n",
    "history = model.fit(partial_x_train, partial_y_train, epochs=20, batch_size=512,validation_data=(x_val, y_val))\n",
    "# results = model.evaluate(x_test, y_test)"
   ]
  },
  {
   "cell_type": "code",
   "execution_count": 44,
   "metadata": {},
   "outputs": [
    {
     "name": "stdout",
     "output_type": "stream",
     "text": [
      "Train on 15000 samples, validate on 10000 samples\n",
      "Epoch 1/20\n",
      "15000/15000 [==============================] - 3s 177us/step - loss: 0.4947 - accuracy: 0.7907 - val_loss: 0.3531 - val_accuracy: 0.8793\n",
      "Epoch 2/20\n",
      "15000/15000 [==============================] - 3s 168us/step - loss: 0.2798 - accuracy: 0.9039 - val_loss: 0.2865 - val_accuracy: 0.8909\n",
      "Epoch 3/20\n",
      "15000/15000 [==============================] - 2s 166us/step - loss: 0.2034 - accuracy: 0.9304 - val_loss: 0.2730 - val_accuracy: 0.8922\n",
      "Epoch 4/20\n",
      "15000/15000 [==============================] - 2s 165us/step - loss: 0.1544 - accuracy: 0.9477 - val_loss: 0.2877 - val_accuracy: 0.8840\n",
      "Epoch 5/20\n",
      "15000/15000 [==============================] - 2s 165us/step - loss: 0.1221 - accuracy: 0.9613 - val_loss: 0.3266 - val_accuracy: 0.8751\n",
      "Epoch 6/20\n",
      "15000/15000 [==============================] - 2s 165us/step - loss: 0.0959 - accuracy: 0.9690 - val_loss: 0.3380 - val_accuracy: 0.8753\n",
      "Epoch 7/20\n",
      "15000/15000 [==============================] - 2s 164us/step - loss: 0.0745 - accuracy: 0.9781 - val_loss: 0.3552 - val_accuracy: 0.8749\n",
      "Epoch 8/20\n",
      "15000/15000 [==============================] - 2s 165us/step - loss: 0.0588 - accuracy: 0.9845 - val_loss: 0.3728 - val_accuracy: 0.8771\n",
      "Epoch 9/20\n",
      "15000/15000 [==============================] - 2s 165us/step - loss: 0.0443 - accuracy: 0.9889 - val_loss: 0.4077 - val_accuracy: 0.8769\n",
      "Epoch 10/20\n",
      "15000/15000 [==============================] - 2s 165us/step - loss: 0.0356 - accuracy: 0.9915 - val_loss: 0.4932 - val_accuracy: 0.8701\n",
      "Epoch 11/20\n",
      "15000/15000 [==============================] - 2s 165us/step - loss: 0.0272 - accuracy: 0.9935 - val_loss: 0.4754 - val_accuracy: 0.8736\n",
      "Epoch 12/20\n",
      "15000/15000 [==============================] - 2s 164us/step - loss: 0.0194 - accuracy: 0.9959 - val_loss: 0.5103 - val_accuracy: 0.8679\n",
      "Epoch 13/20\n",
      "15000/15000 [==============================] - 2s 164us/step - loss: 0.0206 - accuracy: 0.9947 - val_loss: 0.5393 - val_accuracy: 0.8738\n",
      "Epoch 14/20\n",
      "15000/15000 [==============================] - 2s 163us/step - loss: 0.0062 - accuracy: 0.9997 - val_loss: 0.5727 - val_accuracy: 0.8712\n",
      "Epoch 15/20\n",
      "15000/15000 [==============================] - 2s 164us/step - loss: 0.0132 - accuracy: 0.9967 - val_loss: 0.6078 - val_accuracy: 0.8712\n",
      "Epoch 16/20\n",
      "15000/15000 [==============================] - 3s 167us/step - loss: 0.0031 - accuracy: 0.9999 - val_loss: 0.6619 - val_accuracy: 0.8675\n",
      "Epoch 17/20\n",
      "15000/15000 [==============================] - 2s 161us/step - loss: 0.0130 - accuracy: 0.9958 - val_loss: 0.6794 - val_accuracy: 0.8691\n",
      "Epoch 18/20\n",
      "15000/15000 [==============================] - 2s 161us/step - loss: 0.0015 - accuracy: 0.9999 - val_loss: 0.7122 - val_accuracy: 0.8684\n",
      "Epoch 19/20\n",
      "15000/15000 [==============================] - 2s 162us/step - loss: 0.0011 - accuracy: 1.0000 - val_loss: 0.8599 - val_accuracy: 0.8535\n",
      "Epoch 20/20\n",
      "15000/15000 [==============================] - 2s 162us/step - loss: 0.0080 - accuracy: 0.9975 - val_loss: 0.7650 - val_accuracy: 0.8680\n"
     ]
    }
   ],
   "source": [
    "model = models.Sequential()\n",
    "model.add(layers.Dense(32, activation='relu', input_shape=(10000,)))\n",
    "model.add(layers.Dense(32, activation='relu'))\n",
    "model.add(layers.Dense(1, activation='sigmoid'))\n",
    "\n",
    "model.compile(optimizer='rmsprop',\n",
    "              loss='binary_crossentropy',\n",
    "              metrics=['accuracy'])\n",
    "\n",
    "history = model.fit(partial_x_train, partial_y_train, epochs=20, batch_size=512,validation_data=(x_val, y_val))"
   ]
  },
  {
   "cell_type": "code",
   "execution_count": 49,
   "metadata": {},
   "outputs": [
    {
     "name": "stdout",
     "output_type": "stream",
     "text": [
      "Train on 15000 samples, validate on 10000 samples\n",
      "Epoch 1/20\n",
      "15000/15000 [==============================] - 3s 173us/step - loss: 0.5006 - accuracy: 0.7976 - val_loss: 0.3954 - val_accuracy: 0.8625\n",
      "Epoch 2/20\n",
      "15000/15000 [==============================] - 2s 159us/step - loss: 0.3135 - accuracy: 0.9052 - val_loss: 0.3166 - val_accuracy: 0.8867\n",
      "Epoch 3/20\n",
      "15000/15000 [==============================] - 2s 159us/step - loss: 0.2418 - accuracy: 0.9257 - val_loss: 0.2915 - val_accuracy: 0.8885\n",
      "Epoch 4/20\n",
      "15000/15000 [==============================] - 2s 159us/step - loss: 0.1998 - accuracy: 0.9377 - val_loss: 0.2782 - val_accuracy: 0.8914\n",
      "Epoch 5/20\n",
      "15000/15000 [==============================] - 2s 159us/step - loss: 0.1694 - accuracy: 0.9482 - val_loss: 0.2879 - val_accuracy: 0.8832\n",
      "Epoch 6/20\n",
      "15000/15000 [==============================] - 2s 160us/step - loss: 0.1464 - accuracy: 0.9563 - val_loss: 0.2868 - val_accuracy: 0.8836\n",
      "Epoch 7/20\n",
      "15000/15000 [==============================] - 2s 159us/step - loss: 0.1279 - accuracy: 0.9628 - val_loss: 0.2810 - val_accuracy: 0.8882\n",
      "Epoch 8/20\n",
      "15000/15000 [==============================] - 2s 159us/step - loss: 0.1125 - accuracy: 0.9693 - val_loss: 0.2928 - val_accuracy: 0.8864\n",
      "Epoch 9/20\n",
      "15000/15000 [==============================] - 2s 159us/step - loss: 0.0992 - accuracy: 0.9739 - val_loss: 0.2991 - val_accuracy: 0.8856\n",
      "Epoch 10/20\n",
      "15000/15000 [==============================] - 2s 159us/step - loss: 0.0876 - accuracy: 0.9770 - val_loss: 0.3205 - val_accuracy: 0.8830\n",
      "Epoch 11/20\n",
      "15000/15000 [==============================] - 2s 159us/step - loss: 0.0784 - accuracy: 0.9803 - val_loss: 0.3208 - val_accuracy: 0.8813\n",
      "Epoch 12/20\n",
      "15000/15000 [==============================] - 2s 159us/step - loss: 0.0691 - accuracy: 0.9847 - val_loss: 0.3358 - val_accuracy: 0.8786\n",
      "Epoch 13/20\n",
      "15000/15000 [==============================] - 2s 159us/step - loss: 0.0604 - accuracy: 0.9881 - val_loss: 0.3475 - val_accuracy: 0.8805\n",
      "Epoch 14/20\n",
      "15000/15000 [==============================] - 2s 159us/step - loss: 0.0548 - accuracy: 0.9885 - val_loss: 0.3645 - val_accuracy: 0.8796\n",
      "Epoch 15/20\n",
      "15000/15000 [==============================] - 2s 159us/step - loss: 0.0478 - accuracy: 0.9904 - val_loss: 0.3833 - val_accuracy: 0.8779\n",
      "Epoch 16/20\n",
      "15000/15000 [==============================] - 2s 159us/step - loss: 0.0420 - accuracy: 0.9929 - val_loss: 0.4022 - val_accuracy: 0.8758\n",
      "Epoch 17/20\n",
      "15000/15000 [==============================] - 2s 159us/step - loss: 0.0367 - accuracy: 0.9937 - val_loss: 0.4117 - val_accuracy: 0.8743\n",
      "Epoch 18/20\n",
      "15000/15000 [==============================] - 2s 154us/step - loss: 0.0321 - accuracy: 0.9949 - val_loss: 0.4286 - val_accuracy: 0.8727\n",
      "Epoch 19/20\n",
      "15000/15000 [==============================] - 2s 156us/step - loss: 0.0281 - accuracy: 0.9959 - val_loss: 0.4495 - val_accuracy: 0.8714\n",
      "Epoch 20/20\n",
      "15000/15000 [==============================] - 2s 155us/step - loss: 0.0247 - accuracy: 0.9966 - val_loss: 0.4796 - val_accuracy: 0.8706\n"
     ]
    }
   ],
   "source": [
    "model = models.Sequential()\n",
    "model.add(layers.Dense(16, activation='relu', input_shape=(10000,)))\n",
    "# model.add(layers.Dense(16, activation='relu'))\n",
    "model.add(layers.Dense(1, activation='sigmoid'))\n",
    "\n",
    "model.compile(optimizer='rmsprop',\n",
    "              loss='binary_crossentropy',\n",
    "              metrics=['accuracy'])\n",
    "\n",
    "history = model.fit(partial_x_train, partial_y_train, epochs=20, batch_size=512,validation_data=(x_val, y_val))\n",
    "# results = model.evaluate(x_test, y_test)"
   ]
  },
  {
   "cell_type": "code",
   "execution_count": 55,
   "metadata": {},
   "outputs": [
    {
     "name": "stdout",
     "output_type": "stream",
     "text": [
      "Train on 15000 samples, validate on 10000 samples\n",
      "Epoch 1/20\n",
      "15000/15000 [==============================] - 3s 173us/step - loss: 0.1738 - accuracy: 0.8029 - val_loss: 0.1279 - val_accuracy: 0.8586\n",
      "Epoch 2/20\n",
      "15000/15000 [==============================] - 2s 155us/step - loss: 0.0957 - accuracy: 0.9036 - val_loss: 0.1013 - val_accuracy: 0.8754\n",
      "Epoch 3/20\n",
      "15000/15000 [==============================] - 2s 155us/step - loss: 0.0676 - accuracy: 0.9311 - val_loss: 0.0852 - val_accuracy: 0.8918\n",
      "Epoch 4/20\n",
      "15000/15000 [==============================] - 2s 162us/step - loss: 0.0527 - accuracy: 0.9422 - val_loss: 0.0827 - val_accuracy: 0.8923\n",
      "Epoch 5/20\n",
      "15000/15000 [==============================] - 2s 159us/step - loss: 0.0425 - accuracy: 0.9546 - val_loss: 0.0817 - val_accuracy: 0.8886\n",
      "Epoch 6/20\n",
      "15000/15000 [==============================] - 2s 159us/step - loss: 0.0344 - accuracy: 0.9660 - val_loss: 0.0833 - val_accuracy: 0.8857\n",
      "Epoch 7/20\n",
      "15000/15000 [==============================] - 2s 160us/step - loss: 0.0285 - accuracy: 0.9721 - val_loss: 0.0846 - val_accuracy: 0.8864\n",
      "Epoch 8/20\n",
      "15000/15000 [==============================] - 2s 159us/step - loss: 0.0244 - accuracy: 0.9771 - val_loss: 0.0869 - val_accuracy: 0.8826\n",
      "Epoch 9/20\n",
      "15000/15000 [==============================] - 2s 158us/step - loss: 0.0197 - accuracy: 0.9824 - val_loss: 0.1016 - val_accuracy: 0.8654\n",
      "Epoch 10/20\n",
      "15000/15000 [==============================] - 2s 158us/step - loss: 0.0161 - accuracy: 0.9864 - val_loss: 0.0987 - val_accuracy: 0.8694\n",
      "Epoch 11/20\n",
      "15000/15000 [==============================] - 2s 158us/step - loss: 0.0132 - accuracy: 0.9895 - val_loss: 0.0935 - val_accuracy: 0.8765\n",
      "Epoch 12/20\n",
      "15000/15000 [==============================] - 2s 158us/step - loss: 0.0123 - accuracy: 0.9896 - val_loss: 0.0972 - val_accuracy: 0.8728\n",
      "Epoch 13/20\n",
      "15000/15000 [==============================] - 2s 159us/step - loss: 0.0092 - accuracy: 0.9927 - val_loss: 0.0979 - val_accuracy: 0.8731\n",
      "Epoch 14/20\n",
      "15000/15000 [==============================] - 2s 158us/step - loss: 0.0084 - accuracy: 0.9933 - val_loss: 0.0991 - val_accuracy: 0.8736\n",
      "Epoch 15/20\n",
      "15000/15000 [==============================] - 2s 159us/step - loss: 0.0073 - accuracy: 0.9939 - val_loss: 0.1008 - val_accuracy: 0.8726\n",
      "Epoch 16/20\n",
      "15000/15000 [==============================] - 2s 165us/step - loss: 0.0053 - accuracy: 0.9959 - val_loss: 0.1025 - val_accuracy: 0.8707\n",
      "Epoch 17/20\n",
      "15000/15000 [==============================] - 2s 159us/step - loss: 0.0054 - accuracy: 0.9957 - val_loss: 0.1047 - val_accuracy: 0.8697\n",
      "Epoch 18/20\n",
      "15000/15000 [==============================] - 2s 159us/step - loss: 0.0037 - accuracy: 0.9972 - val_loss: 0.1061 - val_accuracy: 0.8681\n",
      "Epoch 19/20\n",
      "15000/15000 [==============================] - 2s 160us/step - loss: 0.0043 - accuracy: 0.9965 - val_loss: 0.1084 - val_accuracy: 0.8668\n",
      "Epoch 20/20\n",
      "15000/15000 [==============================] - 2s 159us/step - loss: 0.0038 - accuracy: 0.9969 - val_loss: 0.1089 - val_accuracy: 0.8664\n"
     ]
    }
   ],
   "source": [
    "model = models.Sequential()\n",
    "model.add(layers.Dense(16, activation='relu', input_shape=(10000,)))\n",
    "model.add(layers.Dense(16, activation='relu'))\n",
    "model.add(layers.Dense(1, activation='sigmoid'))\n",
    "\n",
    "model.compile(optimizer='rmsprop',\n",
    "              loss='mean_squared_error',\n",
    "              metrics=['accuracy'])\n",
    "\n",
    "history = model.fit(partial_x_train, partial_y_train, epochs=20, batch_size=512,validation_data=(x_val, y_val))"
   ]
  },
  {
   "cell_type": "code",
   "execution_count": 60,
   "metadata": {},
   "outputs": [
    {
     "name": "stdout",
     "output_type": "stream",
     "text": [
      "Train on 15000 samples, validate on 10000 samples\n",
      "Epoch 1/20\n",
      "15000/15000 [==============================] - 3s 168us/step - loss: 0.4817 - accuracy: 0.8005 - val_loss: 0.3551 - val_accuracy: 0.8757\n",
      "Epoch 2/20\n",
      "15000/15000 [==============================] - 2s 156us/step - loss: 0.2764 - accuracy: 0.9095 - val_loss: 0.2857 - val_accuracy: 0.8895\n",
      "Epoch 3/20\n",
      "15000/15000 [==============================] - 2s 160us/step - loss: 0.1924 - accuracy: 0.9367 - val_loss: 0.2686 - val_accuracy: 0.8904\n",
      "Epoch 4/20\n",
      "15000/15000 [==============================] - 2s 157us/step - loss: 0.1469 - accuracy: 0.9518 - val_loss: 0.2786 - val_accuracy: 0.8890\n",
      "Epoch 5/20\n",
      "15000/15000 [==============================] - 2s 159us/step - loss: 0.1153 - accuracy: 0.9621 - val_loss: 0.3185 - val_accuracy: 0.8807\n",
      "Epoch 6/20\n",
      "15000/15000 [==============================] - 2s 156us/step - loss: 0.0851 - accuracy: 0.9741 - val_loss: 0.3632 - val_accuracy: 0.8716\n",
      "Epoch 7/20\n",
      "15000/15000 [==============================] - 2s 156us/step - loss: 0.0689 - accuracy: 0.9785 - val_loss: 0.4282 - val_accuracy: 0.8639\n",
      "Epoch 8/20\n",
      "15000/15000 [==============================] - 2s 157us/step - loss: 0.0604 - accuracy: 0.9811 - val_loss: 0.4129 - val_accuracy: 0.8754\n",
      "Epoch 9/20\n",
      "15000/15000 [==============================] - 2s 160us/step - loss: 0.0420 - accuracy: 0.9876 - val_loss: 0.4528 - val_accuracy: 0.8757\n",
      "Epoch 10/20\n",
      "15000/15000 [==============================] - 2s 159us/step - loss: 0.0362 - accuracy: 0.9899 - val_loss: 0.4886 - val_accuracy: 0.8714\n",
      "Epoch 11/20\n",
      "15000/15000 [==============================] - 2s 164us/step - loss: 0.0325 - accuracy: 0.9907 - val_loss: 0.5266 - val_accuracy: 0.8703\n",
      "Epoch 12/20\n",
      "15000/15000 [==============================] - 3s 167us/step - loss: 0.0176 - accuracy: 0.9964 - val_loss: 0.5699 - val_accuracy: 0.8688\n",
      "Epoch 13/20\n",
      "15000/15000 [==============================] - 3s 172us/step - loss: 0.0282 - accuracy: 0.9916 - val_loss: 0.6027 - val_accuracy: 0.8665\n",
      "Epoch 14/20\n",
      "15000/15000 [==============================] - 3s 171us/step - loss: 0.0065 - accuracy: 0.9993 - val_loss: 0.6294 - val_accuracy: 0.8654\n",
      "Epoch 15/20\n",
      "15000/15000 [==============================] - 2s 166us/step - loss: 0.0262 - accuracy: 0.9925 - val_loss: 0.6582 - val_accuracy: 0.8646\n",
      "Epoch 16/20\n",
      "15000/15000 [==============================] - 3s 167us/step - loss: 0.0029 - accuracy: 0.9999 - val_loss: 0.6791 - val_accuracy: 0.8643\n",
      "Epoch 17/20\n",
      "15000/15000 [==============================] - 2s 163us/step - loss: 0.0099 - accuracy: 0.9971 - val_loss: 0.8423 - val_accuracy: 0.8435\n",
      "Epoch 18/20\n",
      "15000/15000 [==============================] - 3s 167us/step - loss: 0.0027 - accuracy: 0.9995 - val_loss: 0.7412 - val_accuracy: 0.8620\n",
      "Epoch 19/20\n",
      "15000/15000 [==============================] - 3s 176us/step - loss: 9.0459e-04 - accuracy: 1.0000 - val_loss: 0.7800 - val_accuracy: 0.8618\n",
      "Epoch 20/20\n",
      "15000/15000 [==============================] - 3s 173us/step - loss: 0.0211 - accuracy: 0.9942 - val_loss: 0.8078 - val_accuracy: 0.8615\n"
     ]
    }
   ],
   "source": [
    "model = models.Sequential()\n",
    "model.add(layers.Dense(16, activation='tanh', input_shape=(10000,)))\n",
    "model.add(layers.Dense(16, activation='tanh'))\n",
    "model.add(layers.Dense(1, activation='sigmoid'))\n",
    "\n",
    "model.compile(optimizer='rmsprop',\n",
    "              loss='binary_crossentropy',\n",
    "              metrics=['accuracy'])\n",
    "\n",
    "history = model.fit(partial_x_train, partial_y_train, epochs=20, batch_size=512,validation_data=(x_val, y_val))"
   ]
  },
  {
   "cell_type": "code",
   "execution_count": 61,
   "metadata": {},
   "outputs": [
    {
     "data": {
      "text/plain": [
       "dict_keys(['val_loss', 'val_accuracy', 'loss', 'accuracy'])"
      ]
     },
     "execution_count": 61,
     "metadata": {},
     "output_type": "execute_result"
    }
   ],
   "source": [
    "history_dict = history.history\n",
    "history_dict.keys()"
   ]
  },
  {
   "cell_type": "code",
   "execution_count": 62,
   "metadata": {},
   "outputs": [
    {
     "data": {
      "image/png": "[encoded data removed]",
      "text/plain": [
       "<Figure size 432x288 with 1 Axes>"
      ]
     },
     "metadata": {
      "needs_background": "light"
     },
     "output_type": "display_data"
    }
   ],
   "source": [
    "import matplotlib.pyplot as plt\n",
    "\n",
    "acc = history.history['accuracy']\n",
    "val_acc = history.history['val_accuracy']\n",
    "loss = history.history['loss']\n",
    "val_loss = history.history['val_loss']\n",
    "\n",
    "epochs = range(1, len(acc) + 1)\n",
    "\n",
    "# \"bo\" is for \"blue dot\"\n",
    "plt.plot(epochs, loss, 'bo', label='Training loss')\n",
    "# b is for \"solid blue line\"\n",
    "plt.plot(epochs, val_loss, 'b', label='Validation loss')\n",
    "plt.title('Training and validation loss')\n",
    "plt.xlabel('Epochs')\n",
    "plt.ylabel('Loss')\n",
    "plt.legend()\n",
    "\n",
    "plt.show()"
   ]
  },
  {
   "cell_type": "code",
   "execution_count": 63,
   "metadata": {},
   "outputs": [
    {
     "data": {
      "image/png": "[encoded data removed]",
      "text/plain": [
       "<Figure size 432x288 with 1 Axes>"
      ]
     },
     "metadata": {
      "needs_background": "light"
     },
     "output_type": "display_data"
    }
   ],
   "source": [
    "plt.clf()   # clear figure\n",
    "acc_values = history_dict['accuracy']\n",
    "val_acc_values = history_dict['val_accuracy']\n",
    "\n",
    "plt.plot(epochs, acc, 'bo', label='Training acc')\n",
    "plt.plot(epochs, val_acc, 'b', label='Validation acc')\n",
    "plt.title('Training and validation accuracy')\n",
    "plt.xlabel('Epochs')\n",
    "plt.ylabel('Loss')\n",
    "plt.legend()\n",
    "\n",
    "plt.show()"
   ]
  },
  {
   "cell_type": "code",
   "execution_count": 43,
   "metadata": {},
   "outputs": [
    {
     "name": "stdout",
     "output_type": "stream",
     "text": [
      "Epoch 1/5\n",
      "25000/25000 [==============================] - 3s 104us/step - loss: 0.5226 - accuracy: 0.8206\n",
      "Epoch 2/5\n",
      "25000/25000 [==============================] - 2s 96us/step - loss: 0.3346 - accuracy: 0.8961\n",
      "Epoch 3/5\n",
      "25000/25000 [==============================] - 2s 96us/step - loss: 0.2534 - accuracy: 0.9157\n",
      "Epoch 4/5\n",
      "25000/25000 [==============================] - 2s 96us/step - loss: 0.2085 - accuracy: 0.9278\n",
      "Epoch 5/5\n",
      "25000/25000 [==============================] - 2s 95us/step - loss: 0.1806 - accuracy: 0.9375\n",
      "25000/25000 [==============================] - 3s 109us/step\n"
     ]
    },
    {
     "data": {
      "text/plain": [
       "[0.27937198650360107, 0.8889999985694885]"
      ]
     },
     "execution_count": 43,
     "metadata": {},
     "output_type": "execute_result"
    }
   ],
   "source": [
    "model = models.Sequential()\n",
    "model.add(layers.Dense(8, activation='relu', input_shape=(10000,)))\n",
    "model.add(layers.Dense(8, activation='relu'))\n",
    "model.add(layers.Dense(1, activation='sigmoid'))\n",
    "\n",
    "model.compile(optimizer='rmsprop',\n",
    "              loss='binary_crossentropy',\n",
    "              metrics=['accuracy'])\n",
    "\n",
    "model.fit(x_train, y_train, epochs=5, batch_size=512)\n",
    "results = model.evaluate(x_test, y_test)\n",
    "results"
   ]
  },
  {
   "cell_type": "code",
   "execution_count": 48,
   "metadata": {},
   "outputs": [
    {
     "name": "stdout",
     "output_type": "stream",
     "text": [
      "Epoch 1/3\n",
      "25000/25000 [==============================] - 3s 111us/step - loss: 0.4237 - accuracy: 0.8214\n",
      "Epoch 2/3\n",
      "25000/25000 [==============================] - 3s 103us/step - loss: 0.2410 - accuracy: 0.9107\n",
      "Epoch 3/3\n",
      "25000/25000 [==============================] - 3s 103us/step - loss: 0.1885 - accuracy: 0.9288\n",
      "25000/25000 [==============================] - 3s 117us/step\n"
     ]
    },
    {
     "data": {
      "text/plain": [
       "[0.3019796406364441, 0.880079984664917]"
      ]
     },
     "execution_count": 48,
     "metadata": {},
     "output_type": "execute_result"
    }
   ],
   "source": [
    "model = models.Sequential()\n",
    "model.add(layers.Dense(32, activation='relu', input_shape=(10000,)))\n",
    "model.add(layers.Dense(32, activation='relu'))\n",
    "model.add(layers.Dense(1, activation='sigmoid'))\n",
    "\n",
    "model.compile(optimizer='rmsprop',\n",
    "              loss='binary_crossentropy',\n",
    "              metrics=['accuracy'])\n",
    "\n",
    "model.fit(x_train, y_train, epochs=3, batch_size=512)\n",
    "results = model.evaluate(x_test, y_test)\n",
    "results"
   ]
  },
  {
   "cell_type": "code",
   "execution_count": 53,
   "metadata": {},
   "outputs": [
    {
     "name": "stdout",
     "output_type": "stream",
     "text": [
      "Epoch 1/4\n",
      "25000/25000 [==============================] - 3s 103us/step - loss: 0.4420 - accuracy: 0.8226\n",
      "Epoch 2/4\n",
      "25000/25000 [==============================] - 2s 97us/step - loss: 0.2700 - accuracy: 0.9092\n",
      "Epoch 3/4\n",
      "25000/25000 [==============================] - 2s 98us/step - loss: 0.2137 - accuracy: 0.9270\n",
      "Epoch 4/4\n",
      "25000/25000 [==============================] - 2s 97us/step - loss: 0.1832 - accuracy: 0.9371\n",
      "25000/25000 [==============================] - 3s 115us/step\n"
     ]
    },
    {
     "data": {
      "text/plain": [
       "[0.30207729557037355, 0.8777599930763245]"
      ]
     },
     "execution_count": 53,
     "metadata": {},
     "output_type": "execute_result"
    }
   ],
   "source": [
    "model = models.Sequential()\n",
    "model.add(layers.Dense(16, activation='relu', input_shape=(10000,)))\n",
    "# model.add(layers.Dense(16, activation='relu'))\n",
    "model.add(layers.Dense(1, activation='sigmoid'))\n",
    "\n",
    "model.compile(optimizer='rmsprop',\n",
    "              loss='binary_crossentropy',\n",
    "              metrics=['accuracy'])\n",
    "\n",
    "model.fit(x_train, y_train, epochs=4, batch_size=512)\n",
    "results = model.evaluate(x_test, y_test)\n",
    "results"
   ]
  },
  {
   "cell_type": "code",
   "execution_count": 59,
   "metadata": {},
   "outputs": [
    {
     "name": "stdout",
     "output_type": "stream",
     "text": [
      "Epoch 1/4\n",
      "25000/25000 [==============================] - 3s 107us/step - loss: 0.1459 - accuracy: 0.8281\n",
      "Epoch 2/4\n",
      "25000/25000 [==============================] - 3s 101us/step - loss: 0.0827 - accuracy: 0.9116\n",
      "Epoch 3/4\n",
      "25000/25000 [==============================] - 2s 98us/step - loss: 0.0641 - accuracy: 0.9276\n",
      "Epoch 4/4\n",
      "25000/25000 [==============================] - 2s 97us/step - loss: 0.0539 - accuracy: 0.9408\n",
      "25000/25000 [==============================] - 3s 114us/step\n"
     ]
    },
    {
     "data": {
      "text/plain": [
       "[0.08478913715600968, 0.8868799805641174]"
      ]
     },
     "execution_count": 59,
     "metadata": {},
     "output_type": "execute_result"
    }
   ],
   "source": [
    "model = models.Sequential()\n",
    "model.add(layers.Dense(16, activation='relu', input_shape=(10000,)))\n",
    "# model.add(layers.Dense(16, activation='relu'))\n",
    "model.add(layers.Dense(1, activation='sigmoid'))\n",
    "\n",
    "model.compile(optimizer='rmsprop',\n",
    "              loss='mean_squared_error',\n",
    "              metrics=['accuracy'])\n",
    "\n",
    "model.fit(x_train, y_train, epochs=4, batch_size=512)\n",
    "results = model.evaluate(x_test, y_test)\n",
    "results"
   ]
  },
  {
   "cell_type": "code",
   "execution_count": 64,
   "metadata": {},
   "outputs": [
    {
     "name": "stdout",
     "output_type": "stream",
     "text": [
      "Epoch 1/3\n",
      "25000/25000 [==============================] - 3s 109us/step - loss: 0.4272 - accuracy: 0.8283\n",
      "Epoch 2/3\n",
      "25000/25000 [==============================] - 3s 107us/step - loss: 0.2370 - accuracy: 0.9131\n",
      "Epoch 3/3\n",
      "25000/25000 [==============================] - 3s 104us/step - loss: 0.1801 - accuracy: 0.9340\n",
      "25000/25000 [==============================] - 3s 123us/step\n"
     ]
    },
    {
     "data": {
      "text/plain": [
       "[0.2933050433254242, 0.8840399980545044]"
      ]
     },
     "execution_count": 64,
     "metadata": {},
     "output_type": "execute_result"
    }
   ],
   "source": [
    "model = models.Sequential()\n",
    "model.add(layers.Dense(16, activation='tanh', input_shape=(10000,)))\n",
    "model.add(layers.Dense(16, activation='tanh'))\n",
    "model.add(layers.Dense(1, activation='sigmoid'))\n",
    "\n",
    "model.compile(optimizer='rmsprop',\n",
    "              loss='binary_crossentropy',\n",
    "              metrics=['accuracy'])\n",
    "\n",
    "model.fit(x_train, y_train, epochs=3, batch_size=512)\n",
    "results = model.evaluate(x_test, y_test)\n",
    "results"
   ]
  },
  {
   "cell_type": "code",
   "execution_count": null,
   "metadata": {},
   "outputs": [],
   "source": []
  }
 ],
 "metadata": {
  "kernelspec": {
   "display_name": "Python 3",
   "language": "python",
   "name": "python3"
  },
  "language_info": {
   "codemirror_mode": {
    "name": "ipython",
    "version": 3
   },
   "file_extension": ".py",
   "mimetype": "text/x-python",
   "name": "python",
   "nbconvert_exporter": "python",
   "pygments_lexer": "ipython3",
   "version": "3.7.4"
  }
 },
 "nbformat": 4,
 "nbformat_minor": 2
}
